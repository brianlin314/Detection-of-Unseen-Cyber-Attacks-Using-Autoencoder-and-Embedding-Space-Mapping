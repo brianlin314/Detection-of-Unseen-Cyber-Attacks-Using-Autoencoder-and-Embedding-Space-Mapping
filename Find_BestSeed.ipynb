{
 "cells": [
  {
   "cell_type": "code",
   "execution_count": 1,
   "metadata": {},
   "outputs": [
    {
     "name": "stdout",
     "output_type": "stream",
     "text": [
      "---------------training_seed_0---------------------\n",
      "Training model on CIC-IDS2018-v1-DoS dataset...\n"
     ]
    },
    {
     "name": "stderr",
     "output_type": "stream",
     "text": [
      "100%|██████████| 160/160 [01:16<00:00,  2.08it/s]\n"
     ]
    },
    {
     "name": "stdout",
     "output_type": "stream",
     "text": [
      "[train] Epoch: 1/1 Loss: 4.781703662722836 Acc: 0.23197492163009403\n",
      "---------------training_seed_1---------------------\n",
      "Training model on CIC-IDS2018-v1-DoS dataset...\n"
     ]
    },
    {
     "name": "stderr",
     "output_type": "stream",
     "text": [
      "100%|██████████| 160/160 [01:10<00:00,  2.26it/s]\n"
     ]
    },
    {
     "name": "stdout",
     "output_type": "stream",
     "text": [
      "[train] Epoch: 1/1 Loss: 3.043304154304875 Acc: 0.09561128526645768\n",
      "---------------training_seed_2---------------------\n",
      "Training model on CIC-IDS2018-v1-DoS dataset...\n"
     ]
    },
    {
     "name": "stderr",
     "output_type": "stream",
     "text": [
      "100%|██████████| 160/160 [00:50<00:00,  3.16it/s]\n"
     ]
    },
    {
     "name": "stdout",
     "output_type": "stream",
     "text": [
      "[train] Epoch: 1/1 Loss: 1.8372662779772917 Acc: 0.43260188087774293\n",
      "---------------training_seed_3---------------------\n",
      "Training model on CIC-IDS2018-v1-DoS dataset...\n"
     ]
    },
    {
     "name": "stderr",
     "output_type": "stream",
     "text": [
      "100%|██████████| 160/160 [00:49<00:00,  3.24it/s]\n"
     ]
    },
    {
     "name": "stdout",
     "output_type": "stream",
     "text": [
      "[train] Epoch: 1/1 Loss: 4.778970381916504 Acc: 0.390282131661442\n",
      "---------------training_seed_4---------------------\n",
      "Training model on CIC-IDS2018-v1-DoS dataset...\n"
     ]
    },
    {
     "name": "stderr",
     "output_type": "stream",
     "text": [
      "100%|██████████| 160/160 [00:49<00:00,  3.23it/s]\n"
     ]
    },
    {
     "name": "stdout",
     "output_type": "stream",
     "text": [
      "[train] Epoch: 1/1 Loss: 2.1638729950664186 Acc: 0.5470219435736677\n",
      "---------------training_seed_5---------------------\n",
      "Training model on CIC-IDS2018-v1-DoS dataset...\n"
     ]
    },
    {
     "name": "stderr",
     "output_type": "stream",
     "text": [
      "100%|██████████| 160/160 [00:49<00:00,  3.23it/s]\n"
     ]
    },
    {
     "name": "stdout",
     "output_type": "stream",
     "text": [
      "[train] Epoch: 1/1 Loss: 7.802016859891646 Acc: 0.2695924764890282\n",
      "---------------training_seed_6---------------------\n",
      "Training model on CIC-IDS2018-v1-DoS dataset...\n"
     ]
    },
    {
     "name": "stderr",
     "output_type": "stream",
     "text": [
      "100%|██████████| 160/160 [00:49<00:00,  3.24it/s]\n"
     ]
    },
    {
     "name": "stdout",
     "output_type": "stream",
     "text": [
      "[train] Epoch: 1/1 Loss: 2.04498321630738 Acc: 0.609717868338558\n",
      "---------------training_seed_7---------------------\n",
      "Training model on CIC-IDS2018-v1-DoS dataset...\n"
     ]
    },
    {
     "name": "stderr",
     "output_type": "stream",
     "text": [
      "100%|██████████| 160/160 [00:49<00:00,  3.24it/s]\n"
     ]
    },
    {
     "name": "stdout",
     "output_type": "stream",
     "text": [
      "[train] Epoch: 1/1 Loss: 7.809602402033851 Acc: 0.37617554858934166\n",
      "---------------training_seed_8---------------------\n",
      "Training model on CIC-IDS2018-v1-DoS dataset...\n"
     ]
    },
    {
     "name": "stderr",
     "output_type": "stream",
     "text": [
      "100%|██████████| 160/160 [00:49<00:00,  3.24it/s]\n"
     ]
    },
    {
     "name": "stdout",
     "output_type": "stream",
     "text": [
      "[train] Epoch: 1/1 Loss: 0.8636048565849335 Acc: 0.744514106583072\n",
      "---------------training_seed_9---------------------\n",
      "Training model on CIC-IDS2018-v1-DoS dataset...\n"
     ]
    },
    {
     "name": "stderr",
     "output_type": "stream",
     "text": [
      "100%|██████████| 160/160 [00:49<00:00,  3.26it/s]\n"
     ]
    },
    {
     "name": "stdout",
     "output_type": "stream",
     "text": [
      "[train] Epoch: 1/1 Loss: 4.450118938945584 Acc: 0.664576802507837\n",
      "---------------training_seed_10---------------------\n",
      "Training model on CIC-IDS2018-v1-DoS dataset...\n"
     ]
    },
    {
     "name": "stderr",
     "output_type": "stream",
     "text": [
      "100%|██████████| 160/160 [00:49<00:00,  3.24it/s]\n"
     ]
    },
    {
     "name": "stdout",
     "output_type": "stream",
     "text": [
      "[train] Epoch: 1/1 Loss: 1.1232341967032622 Acc: 0.5721003134796238\n",
      "---------------training_seed_11---------------------\n",
      "Training model on CIC-IDS2018-v1-DoS dataset...\n"
     ]
    },
    {
     "name": "stderr",
     "output_type": "stream",
     "text": [
      "100%|██████████| 160/160 [00:48<00:00,  3.27it/s]\n"
     ]
    },
    {
     "name": "stdout",
     "output_type": "stream",
     "text": [
      "[train] Epoch: 1/1 Loss: 3.435251881067749 Acc: 0.2554858934169279\n",
      "---------------training_seed_12---------------------\n",
      "Training model on CIC-IDS2018-v1-DoS dataset...\n"
     ]
    },
    {
     "name": "stderr",
     "output_type": "stream",
     "text": [
      "100%|██████████| 160/160 [00:48<00:00,  3.29it/s]\n"
     ]
    },
    {
     "name": "stdout",
     "output_type": "stream",
     "text": [
      "[train] Epoch: 1/1 Loss: 1.6835311348535424 Acc: 0.28213166144200624\n",
      "---------------training_seed_13---------------------\n",
      "Training model on CIC-IDS2018-v1-DoS dataset...\n"
     ]
    },
    {
     "name": "stderr",
     "output_type": "stream",
     "text": [
      "100%|██████████| 160/160 [00:48<00:00,  3.30it/s]\n"
     ]
    },
    {
     "name": "stdout",
     "output_type": "stream",
     "text": [
      "[train] Epoch: 1/1 Loss: 10.110995192746383 Acc: 0.4780564263322884\n",
      "---------------training_seed_14---------------------\n",
      "Training model on CIC-IDS2018-v1-DoS dataset...\n"
     ]
    },
    {
     "name": "stderr",
     "output_type": "stream",
     "text": [
      "100%|██████████| 160/160 [00:48<00:00,  3.29it/s]\n"
     ]
    },
    {
     "name": "stdout",
     "output_type": "stream",
     "text": [
      "[train] Epoch: 1/1 Loss: 6.0790801032396695 Acc: 0.42006269592476486\n",
      "---------------training_seed_15---------------------\n",
      "Training model on CIC-IDS2018-v1-DoS dataset...\n"
     ]
    },
    {
     "name": "stderr",
     "output_type": "stream",
     "text": [
      "100%|██████████| 160/160 [00:49<00:00,  3.26it/s]\n"
     ]
    },
    {
     "name": "stdout",
     "output_type": "stream",
     "text": [
      "[train] Epoch: 1/1 Loss: 5.463705043060279 Acc: 0.2476489028213166\n",
      "---------------training_seed_16---------------------\n",
      "Training model on CIC-IDS2018-v1-DoS dataset...\n"
     ]
    },
    {
     "name": "stderr",
     "output_type": "stream",
     "text": [
      "100%|██████████| 160/160 [00:49<00:00,  3.25it/s]\n"
     ]
    },
    {
     "name": "stdout",
     "output_type": "stream",
     "text": [
      "[train] Epoch: 1/1 Loss: 3.1098904142208794 Acc: 0.280564263322884\n",
      "---------------training_seed_17---------------------\n",
      "Training model on CIC-IDS2018-v1-DoS dataset...\n"
     ]
    },
    {
     "name": "stderr",
     "output_type": "stream",
     "text": [
      "100%|██████████| 160/160 [00:49<00:00,  3.23it/s]\n"
     ]
    },
    {
     "name": "stdout",
     "output_type": "stream",
     "text": [
      "[train] Epoch: 1/1 Loss: 2.902158189436485 Acc: 0.4373040752351097\n",
      "---------------training_seed_18---------------------\n",
      "Training model on CIC-IDS2018-v1-DoS dataset...\n"
     ]
    },
    {
     "name": "stderr",
     "output_type": "stream",
     "text": [
      "100%|██████████| 160/160 [00:49<00:00,  3.23it/s]\n"
     ]
    },
    {
     "name": "stdout",
     "output_type": "stream",
     "text": [
      "[train] Epoch: 1/1 Loss: 1.460267402068201 Acc: 0.4952978056426332\n",
      "---------------training_seed_19---------------------\n",
      "Training model on CIC-IDS2018-v1-DoS dataset...\n"
     ]
    },
    {
     "name": "stderr",
     "output_type": "stream",
     "text": [
      "100%|██████████| 160/160 [00:49<00:00,  3.22it/s]\n"
     ]
    },
    {
     "name": "stdout",
     "output_type": "stream",
     "text": [
      "[train] Epoch: 1/1 Loss: 2.468503899428538 Acc: 0.6912225705329154\n",
      "---------------training_seed_20---------------------\n",
      "Training model on CIC-IDS2018-v1-DoS dataset...\n"
     ]
    },
    {
     "name": "stderr",
     "output_type": "stream",
     "text": [
      "100%|██████████| 160/160 [00:49<00:00,  3.24it/s]\n"
     ]
    },
    {
     "name": "stdout",
     "output_type": "stream",
     "text": [
      "[train] Epoch: 1/1 Loss: 3.123087527189509 Acc: 0.5407523510971787\n",
      "---------------training_seed_21---------------------\n",
      "Training model on CIC-IDS2018-v1-DoS dataset...\n"
     ]
    },
    {
     "name": "stderr",
     "output_type": "stream",
     "text": [
      "100%|██████████| 160/160 [00:49<00:00,  3.24it/s]\n"
     ]
    },
    {
     "name": "stdout",
     "output_type": "stream",
     "text": [
      "[train] Epoch: 1/1 Loss: 6.647685619718868 Acc: 0.24294670846394983\n",
      "---------------training_seed_22---------------------\n",
      "Training model on CIC-IDS2018-v1-DoS dataset...\n"
     ]
    },
    {
     "name": "stderr",
     "output_type": "stream",
     "text": [
      "100%|██████████| 160/160 [00:49<00:00,  3.24it/s]\n"
     ]
    },
    {
     "name": "stdout",
     "output_type": "stream",
     "text": [
      "[train] Epoch: 1/1 Loss: 1.1021475155945855 Acc: 0.5956112852664577\n",
      "---------------training_seed_23---------------------\n",
      "Training model on CIC-IDS2018-v1-DoS dataset...\n"
     ]
    },
    {
     "name": "stderr",
     "output_type": "stream",
     "text": [
      "100%|██████████| 160/160 [00:49<00:00,  3.24it/s]\n"
     ]
    },
    {
     "name": "stdout",
     "output_type": "stream",
     "text": [
      "[train] Epoch: 1/1 Loss: 3.872711494798571 Acc: 0.2507836990595611\n",
      "---------------training_seed_24---------------------\n",
      "Training model on CIC-IDS2018-v1-DoS dataset...\n"
     ]
    },
    {
     "name": "stderr",
     "output_type": "stream",
     "text": [
      "100%|██████████| 160/160 [00:49<00:00,  3.23it/s]\n"
     ]
    },
    {
     "name": "stdout",
     "output_type": "stream",
     "text": [
      "[train] Epoch: 1/1 Loss: 9.26710870282193 Acc: 0.24294670846394983\n",
      "---------------training_seed_25---------------------\n",
      "Training model on CIC-IDS2018-v1-DoS dataset...\n"
     ]
    },
    {
     "name": "stderr",
     "output_type": "stream",
     "text": [
      "100%|██████████| 160/160 [00:49<00:00,  3.24it/s]\n"
     ]
    },
    {
     "name": "stdout",
     "output_type": "stream",
     "text": [
      "[train] Epoch: 1/1 Loss: 5.273954909423302 Acc: 0.24137931034482757\n",
      "---------------training_seed_26---------------------\n",
      "Training model on CIC-IDS2018-v1-DoS dataset...\n"
     ]
    },
    {
     "name": "stderr",
     "output_type": "stream",
     "text": [
      "100%|██████████| 160/160 [00:49<00:00,  3.23it/s]\n"
     ]
    },
    {
     "name": "stdout",
     "output_type": "stream",
     "text": [
      "[train] Epoch: 1/1 Loss: 6.13079574599068 Acc: 0.2476489028213166\n",
      "---------------training_seed_27---------------------\n",
      "Training model on CIC-IDS2018-v1-DoS dataset...\n"
     ]
    },
    {
     "name": "stderr",
     "output_type": "stream",
     "text": [
      "100%|██████████| 160/160 [00:49<00:00,  3.23it/s]\n"
     ]
    },
    {
     "name": "stdout",
     "output_type": "stream",
     "text": [
      "[train] Epoch: 1/1 Loss: 6.164796416755754 Acc: 0.31504702194357365\n",
      "---------------training_seed_28---------------------\n",
      "Training model on CIC-IDS2018-v1-DoS dataset...\n"
     ]
    },
    {
     "name": "stderr",
     "output_type": "stream",
     "text": [
      "100%|██████████| 160/160 [00:49<00:00,  3.24it/s]\n"
     ]
    },
    {
     "name": "stdout",
     "output_type": "stream",
     "text": [
      "[train] Epoch: 1/1 Loss: 3.2502973692358994 Acc: 0.6536050156739812\n",
      "---------------training_seed_29---------------------\n",
      "Training model on CIC-IDS2018-v1-DoS dataset...\n"
     ]
    },
    {
     "name": "stderr",
     "output_type": "stream",
     "text": [
      "100%|██████████| 160/160 [00:48<00:00,  3.30it/s]\n"
     ]
    },
    {
     "name": "stdout",
     "output_type": "stream",
     "text": [
      "[train] Epoch: 1/1 Loss: 1.5341209919428378 Acc: 0.5862068965517241\n",
      "---------------training_seed_30---------------------\n",
      "Training model on CIC-IDS2018-v1-DoS dataset...\n"
     ]
    },
    {
     "name": "stderr",
     "output_type": "stream",
     "text": [
      "100%|██████████| 160/160 [00:48<00:00,  3.28it/s]\n"
     ]
    },
    {
     "name": "stdout",
     "output_type": "stream",
     "text": [
      "[train] Epoch: 1/1 Loss: 7.3088099339912675 Acc: 0.48589341692789967\n",
      "---------------training_seed_31---------------------\n",
      "Training model on CIC-IDS2018-v1-DoS dataset...\n"
     ]
    },
    {
     "name": "stderr",
     "output_type": "stream",
     "text": [
      "100%|██████████| 160/160 [00:49<00:00,  3.24it/s]\n"
     ]
    },
    {
     "name": "stdout",
     "output_type": "stream",
     "text": [
      "[train] Epoch: 1/1 Loss: 2.0366174842122953 Acc: 0.3495297805642633\n",
      "---------------training_seed_32---------------------\n",
      "Training model on CIC-IDS2018-v1-DoS dataset...\n"
     ]
    },
    {
     "name": "stderr",
     "output_type": "stream",
     "text": [
      "100%|██████████| 160/160 [00:49<00:00,  3.25it/s]\n"
     ]
    },
    {
     "name": "stdout",
     "output_type": "stream",
     "text": [
      "[train] Epoch: 1/1 Loss: 2.0268969932632364 Acc: 0.5376175548589341\n",
      "---------------training_seed_33---------------------\n",
      "Training model on CIC-IDS2018-v1-DoS dataset...\n"
     ]
    },
    {
     "name": "stderr",
     "output_type": "stream",
     "text": [
      "100%|██████████| 160/160 [00:49<00:00,  3.25it/s]\n"
     ]
    },
    {
     "name": "stdout",
     "output_type": "stream",
     "text": [
      "[train] Epoch: 1/1 Loss: 3.672833892805823 Acc: 0.46865203761755486\n",
      "---------------training_seed_34---------------------\n",
      "Training model on CIC-IDS2018-v1-DoS dataset...\n"
     ]
    },
    {
     "name": "stderr",
     "output_type": "stream",
     "text": [
      "100%|██████████| 160/160 [00:49<00:00,  3.24it/s]\n"
     ]
    },
    {
     "name": "stdout",
     "output_type": "stream",
     "text": [
      "[train] Epoch: 1/1 Loss: 4.119319198273566 Acc: 0.2915360501567398\n",
      "---------------training_seed_35---------------------\n",
      "Training model on CIC-IDS2018-v1-DoS dataset...\n"
     ]
    },
    {
     "name": "stderr",
     "output_type": "stream",
     "text": [
      "100%|██████████| 160/160 [00:49<00:00,  3.24it/s]\n"
     ]
    },
    {
     "name": "stdout",
     "output_type": "stream",
     "text": [
      "[train] Epoch: 1/1 Loss: 3.3725830699582833 Acc: 0.3181818181818182\n",
      "---------------training_seed_36---------------------\n",
      "Training model on CIC-IDS2018-v1-DoS dataset...\n"
     ]
    },
    {
     "name": "stderr",
     "output_type": "stream",
     "text": [
      "100%|██████████| 160/160 [00:53<00:00,  2.99it/s]\n"
     ]
    },
    {
     "name": "stdout",
     "output_type": "stream",
     "text": [
      "[train] Epoch: 1/1 Loss: 3.241686654128251 Acc: 0.2993730407523511\n",
      "---------------training_seed_37---------------------\n",
      "Training model on CIC-IDS2018-v1-DoS dataset...\n"
     ]
    },
    {
     "name": "stderr",
     "output_type": "stream",
     "text": [
      "100%|██████████| 160/160 [01:14<00:00,  2.15it/s]\n"
     ]
    },
    {
     "name": "stdout",
     "output_type": "stream",
     "text": [
      "[train] Epoch: 1/1 Loss: 5.545465720624759 Acc: 0.24608150470219434\n",
      "---------------training_seed_38---------------------\n",
      "Training model on CIC-IDS2018-v1-DoS dataset...\n"
     ]
    },
    {
     "name": "stderr",
     "output_type": "stream",
     "text": [
      "100%|██████████| 160/160 [01:14<00:00,  2.15it/s]\n"
     ]
    },
    {
     "name": "stdout",
     "output_type": "stream",
     "text": [
      "[train] Epoch: 1/1 Loss: 4.784003941616668 Acc: 0.22100313479623823\n",
      "---------------training_seed_39---------------------\n",
      "Training model on CIC-IDS2018-v1-DoS dataset...\n"
     ]
    },
    {
     "name": "stderr",
     "output_type": "stream",
     "text": [
      "100%|██████████| 160/160 [01:14<00:00,  2.14it/s]\n"
     ]
    },
    {
     "name": "stdout",
     "output_type": "stream",
     "text": [
      "[train] Epoch: 1/1 Loss: 3.810366705760687 Acc: 0.4561128526645768\n",
      "---------------training_seed_40---------------------\n",
      "Training model on CIC-IDS2018-v1-DoS dataset...\n"
     ]
    },
    {
     "name": "stderr",
     "output_type": "stream",
     "text": [
      "100%|██████████| 160/160 [01:14<00:00,  2.14it/s]\n"
     ]
    },
    {
     "name": "stdout",
     "output_type": "stream",
     "text": [
      "[train] Epoch: 1/1 Loss: 3.5441531129765287 Acc: 0.5078369905956113\n",
      "---------------training_seed_41---------------------\n",
      "Training model on CIC-IDS2018-v1-DoS dataset...\n"
     ]
    },
    {
     "name": "stderr",
     "output_type": "stream",
     "text": [
      "100%|██████████| 160/160 [01:14<00:00,  2.15it/s]\n"
     ]
    },
    {
     "name": "stdout",
     "output_type": "stream",
     "text": [
      "[train] Epoch: 1/1 Loss: 4.994307030331004 Acc: 0.24137931034482757\n",
      "---------------training_seed_42---------------------\n",
      "Training model on CIC-IDS2018-v1-DoS dataset...\n"
     ]
    },
    {
     "name": "stderr",
     "output_type": "stream",
     "text": [
      "100%|██████████| 160/160 [01:14<00:00,  2.14it/s]\n"
     ]
    },
    {
     "name": "stdout",
     "output_type": "stream",
     "text": [
      "[train] Epoch: 1/1 Loss: 1.2565645296184995 Acc: 0.5031347962382445\n",
      "---------------training_seed_43---------------------\n",
      "Training model on CIC-IDS2018-v1-DoS dataset...\n"
     ]
    },
    {
     "name": "stderr",
     "output_type": "stream",
     "text": [
      "100%|██████████| 160/160 [01:14<00:00,  2.15it/s]\n"
     ]
    },
    {
     "name": "stdout",
     "output_type": "stream",
     "text": [
      "[train] Epoch: 1/1 Loss: 3.130741415913202 Acc: 0.40282131661442006\n",
      "---------------training_seed_44---------------------\n",
      "Training model on CIC-IDS2018-v1-DoS dataset...\n"
     ]
    },
    {
     "name": "stderr",
     "output_type": "stream",
     "text": [
      "100%|██████████| 160/160 [01:14<00:00,  2.15it/s]\n"
     ]
    },
    {
     "name": "stdout",
     "output_type": "stream",
     "text": [
      "[train] Epoch: 1/1 Loss: 4.096328737780592 Acc: 0.2836990595611285\n",
      "---------------training_seed_45---------------------\n",
      "Training model on CIC-IDS2018-v1-DoS dataset...\n"
     ]
    },
    {
     "name": "stderr",
     "output_type": "stream",
     "text": [
      "100%|██████████| 160/160 [01:14<00:00,  2.14it/s]\n"
     ]
    },
    {
     "name": "stdout",
     "output_type": "stream",
     "text": [
      "[train] Epoch: 1/1 Loss: 3.313448452463718 Acc: 0.38714733542319746\n",
      "---------------training_seed_46---------------------\n",
      "Training model on CIC-IDS2018-v1-DoS dataset...\n"
     ]
    },
    {
     "name": "stderr",
     "output_type": "stream",
     "text": [
      "100%|██████████| 160/160 [01:14<00:00,  2.14it/s]\n"
     ]
    },
    {
     "name": "stdout",
     "output_type": "stream",
     "text": [
      "[train] Epoch: 1/1 Loss: 7.27575819033744 Acc: 0.24137931034482757\n",
      "---------------training_seed_47---------------------\n",
      "Training model on CIC-IDS2018-v1-DoS dataset...\n"
     ]
    },
    {
     "name": "stderr",
     "output_type": "stream",
     "text": [
      "100%|██████████| 160/160 [01:14<00:00,  2.14it/s]\n"
     ]
    },
    {
     "name": "stdout",
     "output_type": "stream",
     "text": [
      "[train] Epoch: 1/1 Loss: 6.105394754663904 Acc: 0.30877742946708464\n",
      "---------------training_seed_48---------------------\n",
      "Training model on CIC-IDS2018-v1-DoS dataset...\n"
     ]
    },
    {
     "name": "stderr",
     "output_type": "stream",
     "text": [
      "100%|██████████| 160/160 [01:14<00:00,  2.14it/s]\n"
     ]
    },
    {
     "name": "stdout",
     "output_type": "stream",
     "text": [
      "[train] Epoch: 1/1 Loss: 5.245508187505939 Acc: 0.47492163009404387\n",
      "---------------training_seed_49---------------------\n",
      "Training model on CIC-IDS2018-v1-DoS dataset...\n"
     ]
    },
    {
     "name": "stderr",
     "output_type": "stream",
     "text": [
      "100%|██████████| 160/160 [01:14<00:00,  2.15it/s]\n"
     ]
    },
    {
     "name": "stdout",
     "output_type": "stream",
     "text": [
      "[train] Epoch: 1/1 Loss: 1.7785776883457147 Acc: 0.5376175548589341\n",
      "---------------training_seed_50---------------------\n",
      "Training model on CIC-IDS2018-v1-DoS dataset...\n"
     ]
    },
    {
     "name": "stderr",
     "output_type": "stream",
     "text": [
      "100%|██████████| 160/160 [01:14<00:00,  2.15it/s]"
     ]
    },
    {
     "name": "stdout",
     "output_type": "stream",
     "text": [
      "[train] Epoch: 1/1 Loss: 6.34172434631449 Acc: 0.33699059561128525\n"
     ]
    },
    {
     "name": "stderr",
     "output_type": "stream",
     "text": [
      "\n"
     ]
    }
   ],
   "source": [
    "import timeit\n",
    "from datetime import datetime\n",
    "import socket\n",
    "import os\n",
    "import glob\n",
    "from tqdm import tqdm\n",
    "\n",
    "import torch\n",
    "from tensorboardX import SummaryWriter\n",
    "from torch import nn, optim\n",
    "\n",
    "from torch.utils.data import DataLoader\n",
    "from torch.autograd import Variable\n",
    "\n",
    "from dataloaders.dataset import VideoDataset\n",
    "from network import R3D_model, C3D_model, R2Plus1D_model, Pac3D_model\n",
    "from sklearn.metrics import confusion_matrix\n",
    "import seaborn as sns\n",
    "import pandas as pd\n",
    "from sklearn.metrics import precision_score, recall_score\n",
    "import matplotlib.pyplot as plt\n",
    "import numpy as np\n",
    "import random\n",
    "\n",
    "for seed in range(51):\n",
    "    print(f\"---------------training_seed_{seed}---------------------\")\n",
    "    random.seed(seed)\n",
    "    np.random.seed(seed)\n",
    "    torch.manual_seed(seed)\n",
    "    torch.cuda.manual_seed(seed)\n",
    "    torch.cuda.manual_seed_all(seed) \n",
    "    os.environ['PYTHONHASHSEED'] = str(seed)\n",
    "    \n",
    "    device = torch.device(\"cuda:0\" if torch.cuda.is_available() else \"cpu\")\n",
    "    # print(\"Device being used:\", device)\n",
    "\n",
    "    ############################\n",
    "    ####    Parameters      ####\n",
    "    ############################\n",
    "    nEpochs = 1  # Number of epochs for training\n",
    "    resume_epoch = 0  # Default is 0, change if want to resume\n",
    "    useTest = True # See evolution of the test set when training\n",
    "    nTestInterval = 5 # Run on test set every nTestInterval epochs\n",
    "    save_epoch = 10 # Store a model every save_epoch\n",
    "    lr = 1e-3 # Learning rate\n",
    "    clip_len = 256 # frames of each video\n",
    "\n",
    "    ###################################\n",
    "    ####    Options of Dataset     ####\n",
    "    ###################################\n",
    "    dataset = 'CIC-IDS2018-v1-DoS' \n",
    "    modelName = 'Pac3D' \n",
    "    saveName = modelName + '-' + dataset\n",
    "\n",
    "    if dataset == 'CIC-IDS2018-all':\n",
    "        num_classes = 14\n",
    "    elif dataset == 'CIC-IDS2018-all-v1':\n",
    "        num_classes = 14\n",
    "    elif dataset == 'CIC-IDS2018-v1-DoS':\n",
    "        num_classes = 4\n",
    "    elif dataset == 'CIC-IDS2018-v1-DDoS':\n",
    "        num_classes = 3\n",
    "    elif dataset == 'CIC-IDS2018-v1-Auth':\n",
    "        num_classes = 2\n",
    "    elif dataset == 'CIC-IDS2018-v1-Web':\n",
    "        num_classes = 3\n",
    "    elif dataset == 'CIC-IDS2018-v1-Other':\n",
    "        num_classes = 2\n",
    "    elif dataset == 'CIC-IDS2018-v2-DoS':\n",
    "        num_classes = 4\n",
    "    elif dataset == 'CIC-IDS2018-v3-DoS':\n",
    "        num_classes = 4\n",
    "    elif dataset == 'CIC-IDS2018-v3-DDoS':\n",
    "        num_classes = 3\n",
    "    elif dataset == 'CIC-IDS2018-v3-Auth':\n",
    "        num_classes = 2\n",
    "    elif dataset == 'CIC-IDS2018-v3-Web':\n",
    "        num_classes = 3\n",
    "    elif dataset == 'CIC-IDS2018-v3-Other':\n",
    "        num_classes = 2\n",
    "    elif dataset == 'CIC-IDS2018-ZSL-v1-DDoS':\n",
    "        num_classes = 2\n",
    "    elif dataset == 'CIC-IDS2018-ZSL-v1-DoS':\n",
    "        num_classes = 3\n",
    "    elif dataset == 'CIC-IDS2018-ZSL-v1-Web':\n",
    "        num_classes = 2\n",
    "    else:\n",
    "        print('No Dataset')\n",
    "        raise NotImplementedError\n",
    "\n",
    "\n",
    "    ######################################\n",
    "    ####   Load model & parameters    ####\n",
    "    ######################################\n",
    "    if modelName == 'C3D':\n",
    "        model = C3D_model.C3D(num_classes=num_classes, pretrained=False)\n",
    "        train_params = [{'params': C3D_model.get_1x_lr_params(model), 'lr': lr},\n",
    "                        {'params': C3D_model.get_10x_lr_params(model), 'lr': lr * 10}]\n",
    "    elif modelName == 'R2Plus1D':\n",
    "        model = R2Plus1D_model.R2Plus1DClassifier(num_classes=num_classes, layer_sizes=(2, 2, 2, 2))\n",
    "        train_params = [{'params': R2Plus1D_model.get_1x_lr_params(model), 'lr': lr},\n",
    "                        {'params': R2Plus1D_model.get_10x_lr_params(model), 'lr': lr * 10}]\n",
    "    elif modelName == 'R3D':\n",
    "        model = R3D_model.R3DClassifier(num_classes=num_classes, layer_sizes=(2, 2, 2, 2))\n",
    "        train_params = model.parameters()\n",
    "    elif modelName == 'Pac3D':\n",
    "        model = Pac3D_model.Pac3DClassifier(num_classes=num_classes, layer_sizes=(2, 2))\n",
    "        train_params = model.parameters()\n",
    "    else:\n",
    "        print('We only implemented C3D and R2Plus1D models.')\n",
    "        raise NotImplementedError\n",
    "\n",
    "\n",
    "    ######################################\n",
    "    ####   Load model & parameters    ####\n",
    "    ######################################\n",
    "    criterion = nn.CrossEntropyLoss()  \n",
    "    optimizer = optim.Adam(train_params, lr=lr, weight_decay=5e-4)\n",
    "    scheduler = optim.lr_scheduler.StepLR(optimizer, step_size=5, gamma=0.1)  # the scheduler divides the lr by 10 every 5 epochs\n",
    "    model.to(device)\n",
    "    criterion.to(device)\n",
    "\n",
    "    ########################\n",
    "    ####   Load Data    ####\n",
    "    ########################\n",
    "    print('Training model on {} dataset...'.format(dataset))\n",
    "    train_dataloader = DataLoader(VideoDataset(dataset=dataset, split='train', clip_len=clip_len), batch_size=4, shuffle=True, num_workers=0)\n",
    "    test_dataloader  = DataLoader(VideoDataset(dataset=dataset, split='test', clip_len=clip_len), batch_size=4, num_workers=0)\n",
    "\n",
    "    train_size = len(train_dataloader.dataset)\n",
    "    test_size = len(test_dataloader.dataset)\n",
    "\n",
    "\n",
    "    train_losses = []\n",
    "    train_accs = []\n",
    "    val_losses = []\n",
    "    val_accs = []\n",
    "    y_pred = []\n",
    "    y_true = []\n",
    "\n",
    "    for epoch in range(resume_epoch, nEpochs):\n",
    "        start_time = timeit.default_timer()\n",
    "\n",
    "        # reset the running loss and corrects\n",
    "        running_loss = 0.0\n",
    "        running_corrects = 0.0\n",
    "        \n",
    "        model.train()\n",
    "\n",
    "        for inputs, labels in tqdm(train_dataloader):\n",
    "            # move inputs and labels to the device the training is taking place on\n",
    "            labels = labels.type(torch.LongTensor)\n",
    "            inputs = Variable(inputs, requires_grad=True).to(device)\n",
    "            labels = Variable(labels).to(device)\n",
    "            optimizer.zero_grad()\n",
    "            outputs = model(inputs)\n",
    "\n",
    "            probs = nn.Softmax(dim=1)(outputs)\n",
    "            preds = torch.max(probs, 1)[1]\n",
    "            loss = criterion(outputs, labels)\n",
    "            loss.backward()\n",
    "            optimizer.step()\n",
    "            scheduler.step()\n",
    "\n",
    "            running_loss += loss.item() * inputs.size(0)\n",
    "            running_corrects += torch.sum(preds == labels.data)\n",
    "\n",
    "        epoch_loss = running_loss / train_size\n",
    "        epoch_acc = running_corrects.double() / train_size\n",
    "\n",
    "        train_losses.append(epoch_loss)\n",
    "        train_accs.append(epoch_acc)\n",
    "            \n",
    "        print(\"[train] Epoch: {}/{} Loss: {} Acc: {}\".format(epoch+1, nEpochs, epoch_loss, epoch_acc))\n",
    "        stop_time = timeit.default_timer()\n",
    "\n",
    "        best_performanse_file = f\"Best_Performance/best_performance_{modelName}_{dataset}.txt\"\n",
    "        with open(best_performanse_file, 'a') as f:\n",
    "            f.write(f\"Seed: {seed} Best Performance: {epoch_acc}\\n\")"
   ]
  }
 ],
 "metadata": {
  "kernelspec": {
   "display_name": "base",
   "language": "python",
   "name": "python3"
  },
  "language_info": {
   "codemirror_mode": {
    "name": "ipython",
    "version": 3
   },
   "file_extension": ".py",
   "mimetype": "text/x-python",
   "name": "python",
   "nbconvert_exporter": "python",
   "pygments_lexer": "ipython3",
   "version": "3.9.7"
  }
 },
 "nbformat": 4,
 "nbformat_minor": 2
}
